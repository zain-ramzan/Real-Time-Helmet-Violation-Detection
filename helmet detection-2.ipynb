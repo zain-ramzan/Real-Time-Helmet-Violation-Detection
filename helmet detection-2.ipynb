{
 "cells": [
  {
   "cell_type": "code",
   "execution_count": 1,
   "metadata": {},
   "outputs": [],
   "source": [
    "import numpy as np\n",
    "import pandas as pd\n",
    "import os\n",
    "import cv2\n",
    "import matplotlib.pyplot as plt\n",
    "#import matplotlib.image as mpimg\n",
    "#import matplotlib.patches as patches\n",
    "import pylab as pl\n",
    "from PIL import Image"
   ]
  },
  {
   "cell_type": "code",
   "execution_count": null,
   "metadata": {},
   "outputs": [],
   "source": []
  },
  {
   "cell_type": "code",
   "execution_count": 2,
   "metadata": {},
   "outputs": [],
   "source": [
    "# for person on bike\n",
    "weights0_path = r'C:\\Users\\Asad\\Downloads\\Helmet-HISB\\yolov3-obj_final.weights'\n",
    "configuration0_path = r'C:\\Users\\Asad\\Downloads\\Helmet-HISB\\yolov3_pb.cfg'\n",
    "\n",
    "probability_minimum = 0.6\n",
    "threshold = 0.1"
   ]
  },
  {
   "cell_type": "code",
   "execution_count": 3,
   "metadata": {},
   "outputs": [
    {
     "name": "stdout",
     "output_type": "stream",
     "text": [
      "['person_bike']\n"
     ]
    }
   ],
   "source": [
    "network0 = cv2.dnn.readNetFromDarknet(configuration0_path, weights0_path)\n",
    "output_layer_indices = network0.getUnconnectedOutLayers()\n",
    "\n",
    "\n",
    "layers_names0_all = network0.getLayerNames()\n",
    "layers_names0_output = [layers_names0_all[i - 1] for i in output_layer_indices]\n",
    "\n",
    "\n",
    "#layers_names0_all = network0.getLayerNames()\n",
    "#layers_names0_output = [layers_names0_all[i[0]-1] for i in network0.getUnconnectedOutLayers()]\n",
    "labels0 = open(r'C:\\Users\\Asad\\Downloads\\Helmet-HISB\\coco.names').read().strip().split('\\n')\n",
    "print(labels0)"
   ]
  },
  {
   "cell_type": "code",
   "execution_count": 4,
   "metadata": {},
   "outputs": [],
   "source": [
    "#print(network0.getLayerNames())"
   ]
  },
  {
   "cell_type": "code",
   "execution_count": 5,
   "metadata": {},
   "outputs": [],
   "source": [
    "# for helmet\n",
    "weights1_path = r'C:\\Users\\Asad\\Downloads\\Helmet-HISB\\yolov3-helmet.weights'\n",
    "configuration1_path = r'C:\\Users\\Asad\\Downloads\\Helmet-HISB\\yolov3-helmet.cfg'"
   ]
  },
  {
   "cell_type": "code",
   "execution_count": 6,
   "metadata": {},
   "outputs": [
    {
     "name": "stdout",
     "output_type": "stream",
     "text": [
      "['Helmet']\n"
     ]
    }
   ],
   "source": [
    "network1 = cv2.dnn.readNetFromDarknet(configuration1_path, weights1_path)\n",
    "output_layer_indices = network1.getUnconnectedOutLayers()\n",
    "\n",
    "\n",
    "layers_names1_all = network1.getLayerNames()\n",
    "layers_names1_output = [layers_names1_all[i - 1] for i in output_layer_indices]\n",
    "    \n",
    "\n",
    "#layers_names0_all = network0.getLayerNames()\n",
    "#layers_names0_output = [layers_names0_all[i[0]-1] for i in network0.getUnconnectedOutLayers()]\n",
    "labels1 = open(r'C:\\Users\\Asad\\Downloads\\Helmet-HISB\\helmet.names').read().strip().split('\\n')\n",
    "print(labels1)"
   ]
  },
  {
   "cell_type": "code",
   "execution_count": 7,
   "metadata": {},
   "outputs": [
    {
     "name": "stdout",
     "output_type": "stream",
     "text": [
      "['yolo_82', 'yolo_94', 'yolo_106']\n"
     ]
    }
   ],
   "source": [
    "print(layers_names0_output)"
   ]
  },
  {
   "cell_type": "code",
   "execution_count": 9,
   "metadata": {},
   "outputs": [],
   "source": [
    "cap = cv2.VideoCapture(0)\n",
    "while True:\n",
    "\n",
    "    # Read a frame from the video feed\n",
    "    ret, frame = cap.read()\n",
    "\n",
    "    if not ret:\n",
    "        print(\"Failed to capture frame. Exiting...\")\n",
    "        break\n",
    "\n",
    "    image_input = frame\n",
    "    blob = cv2.dnn.blobFromImage(frame,1/255.0,(416,416),swapRB=True,crop=False)\n",
    "    blob_to_show = blob[0,:,:,:].transpose(1,2,0)\n",
    "    network0.setInput(blob)\n",
    "    network1.setInput(blob)\n",
    "    output_from_network0 = network0.forward(layers_names0_output)\n",
    "    output_from_network1 = network1.forward(layers_names1_output)\n",
    "    np.random.seed(42)\n",
    "    colours0 = np.random.randint(0,255,size=(len(labels0),3),dtype='uint8')\n",
    "    colours1 = np.random.randint(0,255,size=(len(labels1),3),dtype='uint8')\n",
    "\n",
    "#######################################################################################################\n",
    "    bounding_boxes0 = []\n",
    "    confidences0 = []\n",
    "    class_numbers0 = []\n",
    "\n",
    "    bounding_boxes1 = []\n",
    "    confidences1 = []\n",
    "    class_numbers1 = []\n",
    "\n",
    "    h,w = image_input.shape[:2]\n",
    "\n",
    "#     for result in output_from_network0:\n",
    "#         for detection in result:\n",
    "#             scores = detection[5:]\n",
    "#             class_current=np.argmax(scores)\n",
    "#             confidence_current=scores[class_current]\n",
    "#             if confidence_current>probability_minimum:\n",
    "#                 box_current=detection[0:4]*np.array([w,h,w,h])\n",
    "#                 x_center,y_center,box_width,box_height=box_current.astype('int')\n",
    "#                 x_min=int(x_center-(box_width/2))\n",
    "#                 y_min=int(y_center-(box_height/2))\n",
    "\n",
    "#                 bounding_boxes0.append([x_min,y_min,int(box_width),int(box_height)])\n",
    "#                 confidences0.append(float(confidence_current))\n",
    "#                 class_numbers0.append(class_current)\n",
    "\n",
    "    for result in output_from_network1:\n",
    "        for detection in result:\n",
    "            scores = detection[5:]\n",
    "            class_current=np.argmax(scores)\n",
    "            confidence_current=scores[class_current]\n",
    "\n",
    "            if confidence_current>probability_minimum:\n",
    "                box_current=detection[0:4]*np.array([w,h,w,h])\n",
    "                x_center,y_center,box_width,box_height=box_current.astype('int')\n",
    "                x_min=int(x_center-(box_width/2))\n",
    "                y_min=int(y_center-(box_height/2))\n",
    "\n",
    "                bounding_boxes1.append([x_min,y_min,int(box_width),int(box_height)])\n",
    "                confidences1.append(float(confidence_current))\n",
    "                class_numbers1.append(class_current)   \n",
    "                \n",
    "                    \n",
    "                    \n",
    "\n",
    "#######################################################################################################\n",
    "#     results0 = cv2.dnn.NMSBoxes(bounding_boxes0,confidences0,probability_minimum,threshold)\n",
    "\n",
    "#     if len(results0) > 0:\n",
    "#         for i in results0.flatten():\n",
    "#             x_min,y_min=bounding_boxes0[i][0],bounding_boxes0[i][1]\n",
    "#             box_width,box_height= bounding_boxes0[i][2],bounding_boxes0[i][3]\n",
    "#             colour_box_current=[int(j) for j in colours0[class_numbers0[i]]]   \n",
    "#             cv2.rectangle(image_input,(x_min,y_min),(x_min+box_width,y_min+box_height),colour_box_current,4)\n",
    "#             text_box_current0='{}: {:.2f}'.format(labels0[int(class_numbers0[i])],confidences0[i])\n",
    "#             cv2.putText(image_input,text_box_current0,(x_min,y_min-7),cv2.FONT_HERSHEY_SIMPLEX,.6,colour_box_current,5)\n",
    "\n",
    "#######################################################################################################\n",
    "    results1 = cv2.dnn.NMSBoxes(bounding_boxes1,confidences1,probability_minimum,threshold)\n",
    "\n",
    "    if len(results1) > 0:\n",
    "        for i in results1.flatten():\n",
    "            x_min,y_min=bounding_boxes1[i][0],bounding_boxes1[i][1]\n",
    "            box_width,box_height= bounding_boxes1[i][2],bounding_boxes1[i][3]\n",
    "            colour_box_current=[int(j) for j in colours1[class_numbers1[i]]]   \n",
    "            cv2.rectangle(image_input,(x_min,y_min),(x_min+box_width,y_min+box_height),colour_box_current,4)\n",
    "            text_box_current1='{}: {:.2f}'.format(labels1[int(class_numbers1[i])],confidences1[i])\n",
    "            cv2.putText(image_input,text_box_current1,(x_min,y_min-7),cv2.FONT_HERSHEY_SIMPLEX,0.6,colour_box_current,2)\n",
    "\n",
    "#######################################################################################################\n",
    "    \n",
    "    # Display the resulting frame\n",
    "    cv2.imshow('Helmet Detection', frame)\n",
    "    # Break the loop if 'q' key is pressed\n",
    "    if cv2.waitKey(1) & 0xFF == ord('q'):\n",
    "        break\n",
    "\n",
    "# Release the video capture object\n",
    "cap.release()\n",
    "\n",
    "# Close all windows\n",
    "cv2.destroyAllWindows()\n",
    "\n",
    "\n",
    "\n",
    "#######################################################################################################"
   ]
  },
  {
   "cell_type": "code",
   "execution_count": null,
   "metadata": {},
   "outputs": [],
   "source": []
  }
 ],
 "metadata": {
  "kernelspec": {
   "display_name": "Python 3 (ipykernel)",
   "language": "python",
   "name": "python3"
  },
  "language_info": {
   "codemirror_mode": {
    "name": "ipython",
    "version": 3
   },
   "file_extension": ".py",
   "mimetype": "text/x-python",
   "name": "python",
   "nbconvert_exporter": "python",
   "pygments_lexer": "ipython3",
   "version": "3.11.3"
  }
 },
 "nbformat": 4,
 "nbformat_minor": 2
}
